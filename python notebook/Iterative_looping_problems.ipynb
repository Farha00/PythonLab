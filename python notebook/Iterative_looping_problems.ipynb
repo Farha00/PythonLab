{
  "nbformat": 4,
  "nbformat_minor": 0,
  "metadata": {
    "colab": {
      "name": "Iterative/looping problems.ipynb",
      "provenance": [],
      "collapsed_sections": []
    },
    "kernelspec": {
      "name": "python3",
      "display_name": "Python 3"
    },
    "language_info": {
      "name": "python"
    }
  },
  "cells": [
    {
      "cell_type": "markdown",
      "source": [
        "**1.To find the reverse of a given number.**"
      ],
      "metadata": {
        "id": "NrIZQGXNTsbk"
      }
    },
    {
      "cell_type": "code",
      "source": [
        "n =int(input('Enter a number : '))\n",
        "\n",
        "rev = 0\n",
        "\n",
        "while (n>0):\n",
        "  digit = n%10\n",
        "  rev = rev*10 + digit\n",
        "  n//=10\n",
        "print('The reverse of the given number is : ',rev)\n"
      ],
      "metadata": {
        "colab": {
          "base_uri": "https://localhost:8080/"
        },
        "id": "TJi9ai4lXcOC",
        "outputId": "edfb0e71-2a23-4cb4-fa87-0f46ae1dc2db"
      },
      "execution_count": null,
      "outputs": [
        {
          "output_type": "stream",
          "name": "stdout",
          "text": [
            "Enter a number : 123\n",
            "The reverse of the given number is :  321\n"
          ]
        }
      ]
    },
    {
      "cell_type": "markdown",
      "source": [
        "**2.To find the sum of first N natural numbers.**"
      ],
      "metadata": {
        "id": "J83uQRt1hnPP"
      }
    },
    {
      "cell_type": "code",
      "source": [
        "n=int(input('Enter limit : '))\n",
        "sum=0\n",
        "\n",
        "for i in range(1,n+1):\n",
        "  sum=sum+i\n",
        "print('Sum of first n natural number is : ',sum)"
      ],
      "metadata": {
        "colab": {
          "base_uri": "https://localhost:8080/"
        },
        "id": "Jka3hY0YiFGb",
        "outputId": "71dd48bf-7961-4a24-e640-6a4a9edb1034"
      },
      "execution_count": null,
      "outputs": [
        {
          "output_type": "stream",
          "name": "stdout",
          "text": [
            "Enter limit : 5\n",
            "Sum of first n natural number is :  15\n"
          ]
        }
      ]
    },
    {
      "cell_type": "markdown",
      "source": [
        "**3.To print the sum of the factors of a number.**"
      ],
      "metadata": {
        "id": "TqbPQD1Kiqd-"
      }
    },
    {
      "cell_type": "code",
      "source": [
        "n=int(input('Enter a number : '))\n",
        "sum=0\n",
        "f=1\n",
        "print('Factors : ')\n",
        "for f in range(1,n+1):\n",
        "  if n%f==0:\n",
        "    print(f,end=' ')\n",
        "    sum=sum+f\n",
        "print('\\nSum of factors is : ',sum)"
      ],
      "metadata": {
        "colab": {
          "base_uri": "https://localhost:8080/"
        },
        "id": "dBcQy6Wdi866",
        "outputId": "49843c3c-0d43-42a1-880b-b9e79d85d416"
      },
      "execution_count": null,
      "outputs": [
        {
          "output_type": "stream",
          "name": "stdout",
          "text": [
            "Enter a number : 15\n",
            "Factors : \n",
            "1 3 5 15 \n",
            "Sum of factors is :  24\n"
          ]
        }
      ]
    },
    {
      "cell_type": "markdown",
      "source": [
        "**4.To print N terms of an arithmetic sequence.**"
      ],
      "metadata": {
        "id": "2F5c86ockIcY"
      }
    },
    {
      "cell_type": "code",
      "source": [
        "n=int(input('Enter the number of terms : '))\n",
        "d=int(input('Enter the common difference : '))\n",
        "a=int(input('Enter the first term of the AP : '))\n",
        "i=0\n",
        "m=0\n",
        "\n",
        "print('AP is : ')\n",
        "while n>i:\n",
        "  i=i+1\n",
        "  m=a+((i-1)*d)\n",
        "  print(m,end=' ')"
      ],
      "metadata": {
        "colab": {
          "base_uri": "https://localhost:8080/"
        },
        "id": "y_PSonfqkPxe",
        "outputId": "580856cd-6401-4399-bdfa-4e4a88b077b7"
      },
      "execution_count": null,
      "outputs": [
        {
          "output_type": "stream",
          "name": "stdout",
          "text": [
            "Enter the number of terms : 5\n",
            "Enter the common difference : 2\n",
            "Enter the first term of the AP : 2\n",
            "AP is : \n",
            "2 4 6 8 10 "
          ]
        }
      ]
    },
    {
      "cell_type": "markdown",
      "source": [
        "**5.To print the n terms of the fibonacci series.**"
      ],
      "metadata": {
        "id": "K5j2vakrrioG"
      }
    },
    {
      "cell_type": "code",
      "source": [
        "n=int(input('Enter the limit : '))\n",
        "f1=0\n",
        "f2=1\n",
        "print('Fibonacci series : ')\n",
        "while n>=f1:\n",
        "  f3=f1+f2\n",
        "  print(f1)\n",
        "  f1=f2\n",
        "  f2=f3"
      ],
      "metadata": {
        "colab": {
          "base_uri": "https://localhost:8080/"
        },
        "id": "4TMAEiharrBq",
        "outputId": "4a9cd882-90ab-4f87-d541-3ed0158576db"
      },
      "execution_count": null,
      "outputs": [
        {
          "output_type": "stream",
          "name": "stdout",
          "text": [
            "Enter the limit : 5\n",
            "Fibonacci series : \n",
            "0\n",
            "1\n",
            "1\n",
            "2\n",
            "3\n",
            "5\n"
          ]
        }
      ]
    },
    {
      "cell_type": "markdown",
      "source": [
        "**6.To check whether a number is palindrome or not.**"
      ],
      "metadata": {
        "id": "KAfDPx4etbjK"
      }
    },
    {
      "cell_type": "code",
      "source": [
        "n=int(input('Enter a number : '))\n",
        "var=n\n",
        "rev=0\n",
        "while(n>0):\n",
        "  rm=n%10\n",
        "  rev=(rev*10)+rm\n",
        "  n=n//10\n",
        "if(var==rev):\n",
        "  print('The number is palindrome')\n",
        "else:\n",
        "  print('The number is not palindrome')\n"
      ],
      "metadata": {
        "colab": {
          "base_uri": "https://localhost:8080/"
        },
        "id": "6geDYXg-tk1o",
        "outputId": "6fac5166-39a0-49bd-dc8a-143c0d90bf86"
      },
      "execution_count": null,
      "outputs": [
        {
          "output_type": "stream",
          "name": "stdout",
          "text": [
            "Enter a number : 123\n",
            "The number is not palindrome\n"
          ]
        }
      ]
    },
    {
      "cell_type": "markdown",
      "source": [
        "**7.To check whether a number is Armstrong or not**"
      ],
      "metadata": {
        "id": "QPD0w3qou9Zv"
      }
    },
    {
      "cell_type": "code",
      "source": [
        "n=int(input('Enter a number : '))\n",
        "sum=0\n",
        "temp=n\n",
        "while temp>0:\n",
        "  digit=temp%10\n",
        "  sum += digit**3\n",
        "  temp=temp//10\n",
        "if(n==sum):\n",
        "  print(n,'is an armstrong number.')\n",
        "else:\n",
        "  print(n,'is not an armstrong number.')"
      ],
      "metadata": {
        "colab": {
          "base_uri": "https://localhost:8080/"
        },
        "id": "jcYNbuGPvQri",
        "outputId": "2d130f92-cb1a-413c-bf40-55499d17302d"
      },
      "execution_count": null,
      "outputs": [
        {
          "output_type": "stream",
          "name": "stdout",
          "text": [
            "Enter a number : 153\n",
            "153 is an armstrong number.\n"
          ]
        }
      ]
    },
    {
      "cell_type": "markdown",
      "source": [
        "**8.To evaluate x^n**"
      ],
      "metadata": {
        "id": "wSw5P8MnwG_z"
      }
    },
    {
      "cell_type": "code",
      "source": [
        "x=int(input('Enter the value of x : '))\n",
        "n=int(input('Enter the exponent : '))\n",
        "ans=x**n\n",
        "print('The value of x^n is : ',ans)"
      ],
      "metadata": {
        "colab": {
          "base_uri": "https://localhost:8080/"
        },
        "id": "28tzX-VewQRt",
        "outputId": "311b0890-6397-4e04-a5ca-3cdda636d9b7"
      },
      "execution_count": null,
      "outputs": [
        {
          "output_type": "stream",
          "name": "stdout",
          "text": [
            "Enter the value of x : 2\n",
            "Enter the exponent : 3\n",
            "The value of x^n is :  8\n"
          ]
        }
      ]
    },
    {
      "cell_type": "markdown",
      "source": [
        "**9.To print first n odd number.**"
      ],
      "metadata": {
        "id": "RkgCjY_Uwshj"
      }
    },
    {
      "cell_type": "code",
      "source": [
        "n=int(input('Enter the limit : '))\n",
        "i=1\n",
        "print('First n odd numbers is : ')\n",
        "for i in range(1,n+1,2):\n",
        "  print(i,end=' ')"
      ],
      "metadata": {
        "colab": {
          "base_uri": "https://localhost:8080/"
        },
        "id": "a_CUtrRFwy9I",
        "outputId": "576faba2-0bfa-4ab2-b8ee-9bce5ea0cc3d"
      },
      "execution_count": null,
      "outputs": [
        {
          "output_type": "stream",
          "name": "stdout",
          "text": [
            "Enter the limit : 10\n",
            "First n odd numbers is : \n",
            "1 3 5 7 9 "
          ]
        }
      ]
    },
    {
      "cell_type": "markdown",
      "source": [
        "**10.To print GCD of two numbers.**"
      ],
      "metadata": {
        "id": "igdNo-K5yTw7"
      }
    },
    {
      "cell_type": "code",
      "source": [
        "n1=int(input('Enter the first number : '))\n",
        "n2=int(input('Enter the second number : '))\n",
        "gcd=0\n",
        "c=0\n",
        "while(c<n1):\n",
        "  c=c+1\n",
        "  if(n1%c==0 and n2%c==0):\n",
        "    gcd=c\n",
        "if(gcd==0):\n",
        "  print('No GCD')\n",
        "else:\n",
        "  print('GCD is : ',gcd)"
      ],
      "metadata": {
        "id": "3itIDDYbyZR-",
        "colab": {
          "base_uri": "https://localhost:8080/"
        },
        "outputId": "abf1c6c4-068d-446e-b700-aa688880426f"
      },
      "execution_count": null,
      "outputs": [
        {
          "output_type": "stream",
          "name": "stdout",
          "text": [
            "Enter the first number : 2\n",
            "Enter the second number : 4\n",
            "GCD is :  2\n"
          ]
        }
      ]
    },
    {
      "cell_type": "markdown",
      "source": [
        "**11.To print factorial of a given number.**"
      ],
      "metadata": {
        "id": "U7Y2rIXOKpth"
      }
    },
    {
      "cell_type": "code",
      "source": [
        "n=int(input('Enter a number : '))\n",
        "fact=1\n",
        "if(n==0):\n",
        "  print('Factorial is 1')\n",
        "else:\n",
        "  while(n>1):\n",
        "    fact=fact*n\n",
        "    n=n-1\n",
        "  print('Factorial of the number is : ',fact)\n",
        "\n"
      ],
      "metadata": {
        "id": "nj3e73qYKyUv",
        "colab": {
          "base_uri": "https://localhost:8080/"
        },
        "outputId": "bb72c15c-0895-4b88-ae33-4a237b871073"
      },
      "execution_count": null,
      "outputs": [
        {
          "output_type": "stream",
          "name": "stdout",
          "text": [
            "Enter a number : 5\n",
            "Factorial of the number is :  120\n"
          ]
        }
      ]
    },
    {
      "cell_type": "markdown",
      "source": [
        "**12.To find squares of natural numbers between two numbers.**"
      ],
      "metadata": {
        "id": "FpifsPcc-Tfn"
      }
    },
    {
      "cell_type": "code",
      "source": [
        "n1=int(input('Enter first number : '))\n",
        "n2=int(input('Enter second number : '))\n",
        "print('Squares of natural number between two numbers : ')\n",
        "while(n1<=n2):\n",
        "  squareofnum=n1**2\n",
        "  print(squareofnum)\n",
        "  n1=n1+1\n"
      ],
      "metadata": {
        "colab": {
          "base_uri": "https://localhost:8080/"
        },
        "id": "lvkyb83U-1iz",
        "outputId": "b92ea598-af05-4a77-ec6d-4223755f961b"
      },
      "execution_count": null,
      "outputs": [
        {
          "output_type": "stream",
          "name": "stdout",
          "text": [
            "Enter first number : 1\n",
            "Enter second number : 5\n",
            "Squares of natural number between two numbers : \n",
            "1\n",
            "4\n",
            "9\n",
            "16\n",
            "25\n"
          ]
        }
      ]
    },
    {
      "cell_type": "markdown",
      "source": [
        "**13.** To find the sum of the given series,\n",
        "up to n terms. S = 1 - 4 + 9 - 16 + ...\n"
      ],
      "metadata": {
        "id": "bYAtDt79BcuO"
      }
    },
    {
      "cell_type": "code",
      "source": [
        "n=int(input('Enter the value of n : '))\n",
        "sum=0\n",
        "i=1\n",
        "sign=1\n",
        "while(i<=n):\n",
        "  sign=(-1)**(i+1)\n",
        "  sum=sum+((i**2)*sign)\n",
        "  i=i+1\n",
        "print('Sum is : ',sum)\n"
      ],
      "metadata": {
        "colab": {
          "base_uri": "https://localhost:8080/"
        },
        "id": "uQhxH-6wCSqH",
        "outputId": "28eedc42-01b4-4e48-a7c4-7c667449339b"
      },
      "execution_count": null,
      "outputs": [
        {
          "output_type": "stream",
          "name": "stdout",
          "text": [
            "Enter the value of n : 2\n",
            "Sum is :  -3\n"
          ]
        }
      ]
    },
    {
      "cell_type": "markdown",
      "source": [
        "**14.**To check whether a given number\n",
        "is Automorphic or not."
      ],
      "metadata": {
        "id": "GbV0tDpkHHs9"
      }
    },
    {
      "cell_type": "code",
      "source": [
        "n=int(input('Enter the num : '))\n",
        "c=0\n",
        "sqr=n*n\n",
        "temp=n\n",
        "while(temp>=1):\n",
        "  c=c+1\n",
        "  temp=temp//10\n",
        "if(n==sqr%10**c):\n",
        "  print(n,' is Automorphic')\n",
        "else:\n",
        "  print(n,' is not Auotomorphic')"
      ],
      "metadata": {
        "colab": {
          "base_uri": "https://localhost:8080/"
        },
        "id": "XmAGRffECBMa",
        "outputId": "c985b795-0a8a-4dc6-c3be-148c81c88ee7"
      },
      "execution_count": null,
      "outputs": [
        {
          "output_type": "stream",
          "name": "stdout",
          "text": [
            "Enter the num : 6\n",
            "6  is Automorphic\n"
          ]
        }
      ]
    },
    {
      "cell_type": "markdown",
      "source": [
        "**15.**To read a binary number and print\n",
        "its decimal equivalent."
      ],
      "metadata": {
        "id": "1i7DSRi8HjQu"
      }
    },
    {
      "cell_type": "code",
      "source": [
        "\n",
        "n=int(input('Enter the binary number : '))\n",
        "i=0\n",
        "decimal=0\n",
        "while(n>=1):\n",
        "  lastdig=n%10\n",
        "  n=n//10\n",
        "  decimal=decimal+lastdig*2**c\n",
        "  i=i+1\n",
        "print('Decimal number is : ',decimal)"
      ],
      "metadata": {
        "colab": {
          "base_uri": "https://localhost:8080/"
        },
        "id": "Iq--SwMy-c7m",
        "outputId": "76c6d017-099f-4079-bafb-f61e24d3f352"
      },
      "execution_count": null,
      "outputs": [
        {
          "output_type": "stream",
          "name": "stdout",
          "text": [
            "Enter the binary number : 202\n",
            "Decimal number is :  8\n"
          ]
        }
      ]
    }
  ]
}