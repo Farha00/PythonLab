{
  "nbformat": 4,
  "nbformat_minor": 0,
  "metadata": {
    "colab": {
      "name": "decision problems.ipynb",
      "provenance": [],
      "collapsed_sections": []
    },
    "kernelspec": {
      "name": "python3",
      "display_name": "Python 3"
    },
    "language_info": {
      "name": "python"
    }
  },
  "cells": [
    {
      "cell_type": "markdown",
      "source": [
        "**1. To find biggest of two numbers**"
      ],
      "metadata": {
        "id": "Wa7qL0mRfBuu"
      }
    },
    {
      "cell_type": "code",
      "source": [
        "a=int(input('Enter first number : '))\n",
        "b=int(input('Enter second number : '))\n",
        "if(a>b):\n",
        "  print('Biggest number is ',a)\n",
        "elif(b>a):\n",
        "    print('Biggest number is ',b)\n",
        "else:\n",
        "  print('Both numbers are equal')"
      ],
      "metadata": {
        "colab": {
          "base_uri": "https://localhost:8080/"
        },
        "id": "dJPkv1cQiGUR",
        "outputId": "7e1899b0-2e58-4c46-8e11-8527edf33ce8"
      },
      "execution_count": null,
      "outputs": [
        {
          "output_type": "stream",
          "name": "stdout",
          "text": [
            "Enter first number : 2\n",
            "Enter second number : 83\n",
            "Biggest number is  83\n"
          ]
        }
      ]
    },
    {
      "cell_type": "markdown",
      "source": [
        "**2.To find smallest of three numbers**"
      ],
      "metadata": {
        "id": "kQ_NtBmUCTnz"
      }
    },
    {
      "cell_type": "code",
      "source": [
        "a=int(input('Enter first number : '))\n",
        "b=int(input('Enter second number : '))\n",
        "c=int(input('Enter third number : '))\n",
        "if(a<b and a<c):\n",
        "  print('Smallest number is ',a)\n",
        "elif(b<a and b<c):\n",
        "   print('Smallest number is ',b)\n",
        "elif(c<a and c<b):\n",
        "   print('Smallest number is ',c)\n",
        "else:\n",
        "  print('All the three values are same')\n"
      ],
      "metadata": {
        "colab": {
          "base_uri": "https://localhost:8080/"
        },
        "id": "su2DCFn1CgEf",
        "outputId": "7aad5ad6-40cd-49c6-80a7-6b53e2cec9af"
      },
      "execution_count": null,
      "outputs": [
        {
          "output_type": "stream",
          "name": "stdout",
          "text": [
            "Enter first number : 2\n",
            "Enter second number : 4\n",
            "Enter third number : 1\n",
            "Smallest number is  1\n"
          ]
        }
      ]
    },
    {
      "cell_type": "markdown",
      "source": [
        "**3.To find distance between two points on a number line**"
      ],
      "metadata": {
        "id": "-aEwpJoGEUEt"
      }
    },
    {
      "cell_type": "code",
      "source": [
        "a=int(input('Enter first point : '))\n",
        "b=int(input('Enter second point : '))\n",
        "if(a>b):\n",
        "  distance=a-b\n",
        "else:\n",
        "  distance=b-a\n",
        "print('Distance between the two points is : ',distance)"
      ],
      "metadata": {
        "colab": {
          "base_uri": "https://localhost:8080/"
        },
        "id": "g1nVdho8EcVJ",
        "outputId": "1fb319b5-cf1b-458b-9639-98440ba76d04"
      },
      "execution_count": null,
      "outputs": [
        {
          "output_type": "stream",
          "name": "stdout",
          "text": [
            "Enter first point : 8\n",
            "Enter second point : 14\n",
            "Distance between the two points is :  6\n"
          ]
        }
      ]
    },
    {
      "cell_type": "markdown",
      "source": [
        "**4.To check whether a number is two-digit or not**"
      ],
      "metadata": {
        "id": "RPL1LxkKFlT-"
      }
    },
    {
      "cell_type": "code",
      "source": [
        "a=int(input('Enter a number : '))\n",
        "if(a>9 and a<100):\n",
        "  print(a,'is a two digit number.')\n",
        "elif(a<-9 and a>-100):\n",
        "    print(a,'is a two digit number.')\n",
        "else:\n",
        "    print(a,'is not a two digit number.')"
      ],
      "metadata": {
        "colab": {
          "base_uri": "https://localhost:8080/"
        },
        "id": "k-t0q_0lFuEr",
        "outputId": "40bbd231-f4e5-46ef-8a1f-5c257b6e0931"
      },
      "execution_count": null,
      "outputs": [
        {
          "output_type": "stream",
          "name": "stdout",
          "text": [
            "Enter a number : -21\n",
            "-21 is a two digit number.\n"
          ]
        }
      ]
    },
    {
      "cell_type": "markdown",
      "source": [
        "**5.To check a number is positive,negative or zero.**"
      ],
      "metadata": {
        "id": "BZXCAGznG2Sx"
      }
    },
    {
      "cell_type": "code",
      "source": [
        "a=float(input('Enter a number : '))\n",
        "if(a>0):\n",
        "  print('It is a positive number.')\n",
        "elif(a==0):\n",
        "    print('The number is zero.')\n",
        "else:\n",
        "    print('The number is a negative number.')"
      ],
      "metadata": {
        "colab": {
          "base_uri": "https://localhost:8080/"
        },
        "id": "j_kKsGHSHAqs",
        "outputId": "1aaedfb2-b8a0-43c4-f48a-30f15637bc37"
      },
      "execution_count": null,
      "outputs": [
        {
          "output_type": "stream",
          "name": "stdout",
          "text": [
            "Enter a number : -9\n",
            "The number is a negative number.\n"
          ]
        }
      ]
    },
    {
      "cell_type": "markdown",
      "source": [
        "**6.To check whether a number is a multiple of another.**"
      ],
      "metadata": {
        "id": "x1OfVwfVq0Js"
      }
    },
    {
      "cell_type": "code",
      "source": [
        "a=int(input('Enter a number : '))\n",
        "b=int(input('Enter another number : '))\n",
        "if(a % b == 0):\n",
        "  print(b,'is the multiple of ',a)\n",
        "elif(b % a == 0):\n",
        "  print(a,'is a multiple of',b)\n",
        "else:\n",
        "  print('Not a multiple')\n",
        "\n",
        "\n"
      ],
      "metadata": {
        "colab": {
          "base_uri": "https://localhost:8080/"
        },
        "id": "8s3VG290q9jc",
        "outputId": "b2c83ef3-32cf-4dd8-f085-ba0ea22c99d0"
      },
      "execution_count": null,
      "outputs": [
        {
          "output_type": "stream",
          "name": "stdout",
          "text": [
            "Enter a number : 25\n",
            "Enter another number : 5\n",
            "5 is the multiple of  25\n"
          ]
        }
      ]
    },
    {
      "cell_type": "markdown",
      "source": [
        "**7.To find smallest digit in a two digit number.**"
      ],
      "metadata": {
        "id": "FZSyp3o_trkB"
      }
    },
    {
      "cell_type": "code",
      "source": [
        "a=int(input('Enter a two-digit number : '))\n",
        "ones=a % 10\n",
        "tens=int(a/10)\n",
        "if(ones>tens):\n",
        "  print(tens,'is the smallest number in',a)\n",
        "else:\n",
        "  print(ones,'is the smallest number in',a)\n"
      ],
      "metadata": {
        "colab": {
          "base_uri": "https://localhost:8080/"
        },
        "id": "Gjr-d4gUtyOv",
        "outputId": "15a9eec9-c697-44d4-ba9b-0c8fc3ac214f"
      },
      "execution_count": null,
      "outputs": [
        {
          "output_type": "stream",
          "name": "stdout",
          "text": [
            "Enter a two-digit number : 45\n",
            "4 is the smallest number in 45\n"
          ]
        }
      ]
    },
    {
      "cell_type": "markdown",
      "source": [
        "**8.To print nature of the solution of the quadratic equation.**"
      ],
      "metadata": {
        "id": "z0MU0rZ5wnYi"
      }
    },
    {
      "cell_type": "code",
      "source": [
        "a=int(input('Enter coefficient of x^2 : '))\n",
        "b=int(input('Enter coefficient of x : '))\n",
        "c=int(input('Enter constant term : '))\n",
        "if(b^2-4*a*c>0):\n",
        "  print('Different real roots')\n",
        "elif(b^2-4*a*c==0):\n",
        "  print('Same real roots')\n",
        "else:\n",
        "  print('imaginary roots')"
      ],
      "metadata": {
        "colab": {
          "base_uri": "https://localhost:8080/"
        },
        "id": "VWVJ-7Ftw2BZ",
        "outputId": "6e1df0f3-f6c5-4128-9482-ed7ccb29141c"
      },
      "execution_count": null,
      "outputs": [
        {
          "output_type": "stream",
          "name": "stdout",
          "text": [
            "Enter coefficient of x^2 : 1\n",
            "Enter coefficient of x : -6\n",
            "Enter constant term : 8\n",
            "Different real roots\n"
          ]
        }
      ]
    }
  ]
}