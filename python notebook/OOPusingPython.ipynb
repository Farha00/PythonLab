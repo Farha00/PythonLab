{
  "nbformat": 4,
  "nbformat_minor": 0,
  "metadata": {
    "colab": {
      "name": "PythonAssignment.ipynb",
      "provenance": []
    },
    "kernelspec": {
      "name": "python3",
      "display_name": "Python 3"
    },
    "language_info": {
      "name": "python"
    }
  },
  "cells": [
    {
      "cell_type": "markdown",
      "source": [
        "# **Classes and objects**\n",
        "Class is a code template for creating objects.It is a user-defined prototype for an object that defines a set of attributes that characterize any object of the class.\n",
        "* Classes are created by keyword class.\n",
        "* Attributes are variables that belong to a class.\n",
        "\n",
        "**syntax :**\n",
        "\n",
        "```\n",
        "class Classname:\n",
        "#<Statement-1>\n",
        ".\n",
        ".\n",
        "#<Statement-N>\n",
        "```\n",
        "\n"
      ],
      "metadata": {
        "id": "4At_P8Roz5nc"
      }
    },
    {
      "cell_type": "code",
      "source": [
        "class MyClass:\n",
        "  x=5"
      ],
      "metadata": {
        "id": "IHq-bBpk43rj"
      },
      "execution_count": 6,
      "outputs": []
    },
    {
      "cell_type": "markdown",
      "source": [
        "# **Objects**\n",
        "\n",
        "An object is simply a collection of data(variables) and methods(functions) that act on those data.\n",
        "\n",
        "**Syntax:**\n",
        "\n",
        "```\n",
        "<object-name>=<class-name>(<arguments>)\n",
        "```\n",
        "\n"
      ],
      "metadata": {
        "id": "nQZ_FnG4Ar73"
      }
    },
    {
      "cell_type": "code",
      "source": [
        "obj=MyClass()\n",
        "print(obj.x)"
      ],
      "metadata": {
        "colab": {
          "base_uri": "https://localhost:8080/"
        },
        "id": "7FsSL-Kn_IFl",
        "outputId": "4f7cf7db-360c-458d-9673-0573a04ad642"
      },
      "execution_count": 8,
      "outputs": [
        {
          "output_type": "stream",
          "name": "stdout",
          "text": [
            "5\n"
          ]
        }
      ]
    },
    {
      "cell_type": "code",
      "source": [
        "class Person:\n",
        "  name='Raju'\n",
        "  age=20\n",
        "  def display(self):\n",
        "    print('age : %d \\nName : %s'%(self.age,self.name))\n",
        "per=Person()\n",
        "per.display()"
      ],
      "metadata": {
        "colab": {
          "base_uri": "https://localhost:8080/"
        },
        "id": "ZfJWuyVdIqzV",
        "outputId": "84b84a0e-7b00-4ae1-f029-ff3dd7acbea7"
      },
      "execution_count": 20,
      "outputs": [
        {
          "output_type": "stream",
          "name": "stdout",
          "text": [
            "age : 20 \n",
            "Name : Raju\n"
          ]
        }
      ]
    },
    {
      "cell_type": "markdown",
      "source": [
        "# **Public access modifier**\n",
        "The members of a class that are declared public are easily accessible from any part of the program.All data members and member functions of a class are public by default."
      ],
      "metadata": {
        "id": "o3fe0D3LIPGH"
      }
    },
    {
      "cell_type": "code",
      "source": [
        "\n",
        "class Student:\n",
        "\tdef __init__(self, name, age):\n",
        "\t\tself.name = name\n",
        "\t\tself.age = age\n",
        "\n",
        "\tdef displayage(self):\n",
        "\t\tprint(\"Age: \", self.age)\n",
        "\n",
        "obj = Student(\"Rohit\", 20)\n",
        "print(\"Name: \", obj.name)\n",
        "obj.displayage()\n"
      ],
      "metadata": {
        "colab": {
          "base_uri": "https://localhost:8080/"
        },
        "id": "skT5VMJl0-Lr",
        "outputId": "43ca885e-6c2e-4dab-8777-fc9d08e022a7"
      },
      "execution_count": 39,
      "outputs": [
        {
          "output_type": "stream",
          "name": "stdout",
          "text": [
            "Name:  Rohit\n",
            "Age:  20\n"
          ]
        }
      ]
    },
    {
      "cell_type": "markdown",
      "source": [
        "# **Protected access modifier**\n",
        "The members of a class that are declared protected are only accessible to a class derived from it.Data members of a class are declared protected by adding a single underscore'_' symbol before the data members of that class.\n",
        "\n",
        "```\n",
        "\n"
      ],
      "metadata": {
        "id": "Ay-FbGIJMeEq"
      }
    },
    {
      "cell_type": "code",
      "source": [
        "\n",
        "class Student:\n",
        "\t_name = None\n",
        "\t_roll = None\n",
        "\t_branch = None\n",
        "\t\n",
        "\tdef __init__(self, name, roll, branch):\n",
        "\t\tself._name = name\n",
        "\t\tself._roll = roll\n",
        "\t\tself._branch = branch\n",
        "\t\n",
        "\tdef _displayRollAndBranch(self):\n",
        "\t\tprint(\"Roll: \", self._roll)\n",
        "\t\tprint(\"Branch: \", self._branch)\n",
        "\n",
        "class Ten(Student):\n",
        "\tdef __init__(self, name, roll, branch):\n",
        "\t\t\t\tStudent.__init__(self, name, roll, branch)\n",
        "\t\t\n",
        "\tdef displayDetails(self):\n",
        "\t\t\t\tprint(\"Name: \", self._name)\n",
        "\t\t\t\t\n",
        "\t\t\t\tself._displayRollAndBranch()\n",
        "\t\n",
        "obj = Ten(\"Rohit\", 1706256, \"Information Technology\")\n",
        "\n",
        "obj.displayDetails()\n"
      ],
      "metadata": {
        "colab": {
          "base_uri": "https://localhost:8080/"
        },
        "id": "lRepmyWL1r6u",
        "outputId": "f56992e6-b10e-44cd-a79f-b228bb178f7b"
      },
      "execution_count": 40,
      "outputs": [
        {
          "output_type": "stream",
          "name": "stdout",
          "text": [
            "Name:  Rohit\n",
            "Roll:  1706256\n",
            "Branch:  Information Technology\n"
          ]
        }
      ]
    },
    {
      "cell_type": "markdown",
      "source": [
        "# **Private access modifier**\n",
        "The members of a class that are declared private are accessible within the class only,private access modifier is the most secure access modifier.Data members of a class are declared private by adding a double underscore'__' symbol before the data members of that class."
      ],
      "metadata": {
        "id": "vBQD8OlfNHb4"
      }
    },
    {
      "cell_type": "code",
      "source": [
        "\n",
        "class Ten:\n",
        "\t__name = None\n",
        "\t__roll = None\n",
        "\t__branch = None\n",
        "\n",
        "\tdef __init__(self, name, roll, branch):\n",
        "\t\tself.__name = name\n",
        "\t\tself.__roll = roll\n",
        "\t\tself.__branch = branch\n",
        "\n",
        "\tdef __displayDetails(self):\n",
        "\t\tprint(\"Name: \", self.__name)\n",
        "\t\tprint(\"Roll: \", self.__roll)\n",
        "\t\tprint(\"Branch: \", self.__branch)\n",
        "\t\n",
        "\tdef accessPrivateFunction(self):\n",
        "\t\tself.__displayDetails()\n",
        "\n",
        "obj = Ten(\"Rohit\", 1706256, \"Information Technology\")\n",
        "\n",
        "obj.accessPrivateFunction()\n"
      ],
      "metadata": {
        "colab": {
          "base_uri": "https://localhost:8080/"
        },
        "id": "Tl9URyXs3M1v",
        "outputId": "bdbc0cfa-1f2d-4359-e218-cf115f8165bf"
      },
      "execution_count": 41,
      "outputs": [
        {
          "output_type": "stream",
          "name": "stdout",
          "text": [
            "Name:  Rohit\n",
            "Roll:  1706256\n",
            "Branch:  Information Technology\n"
          ]
        }
      ]
    },
    {
      "cell_type": "markdown",
      "source": [
        "# **Inheritance**\n",
        "Inheritance is the capability of one class to derive or inherit the properties from another class. The benefits of inheritance are: \n",
        "* It provides reusability of a code. We don’t have to write the same code again and again. Also, it allows us to add more features to a class without modifying it.\n",
        "* It is transitive in nature, which means that if class B inherits from another class A, then all the subclasses of B would automatically inherit from class A.\n",
        "**Syntax:**\n",
        "\n",
        "```\n",
        "class BaseClass:\n",
        "  Body of base class\n",
        "class DerivedClass(BaseClass):\n",
        "  Body of derived class\n",
        "```\n",
        "\n"
      ],
      "metadata": {
        "id": "ugoNk7i7wgSR"
      }
    },
    {
      "cell_type": "code",
      "source": [
        "\n",
        "class Person(object):\n",
        "\tdef __init__(self, name):\n",
        "\t\tself.name = name\n",
        "\n",
        "\tdef getName(self):\n",
        "\t\treturn self.name\n",
        "\n",
        "\tdef isEmployee(self):\n",
        "\t\treturn False\n",
        "\n",
        "class Employee(Person):\n",
        "\n",
        "\tdef isEmployee(self):\n",
        "\t\treturn True\n",
        "\n",
        "emp = Person(\"Rahul\") \n",
        "print(emp.getName(), emp.isEmployee())\n",
        "\n",
        "emp = Employee(\"Sita\")\n",
        "print(emp.getName(), emp.isEmployee())\n"
      ],
      "metadata": {
        "colab": {
          "base_uri": "https://localhost:8080/"
        },
        "id": "Ddanm0IT4HKu",
        "outputId": "ec1ce6e6-9e9c-4458-ca28-bf65bacc7ffc"
      },
      "execution_count": 43,
      "outputs": [
        {
          "output_type": "stream",
          "name": "stdout",
          "text": [
            "Rahul False\n",
            "Sita True\n"
          ]
        }
      ]
    }
  ]
}