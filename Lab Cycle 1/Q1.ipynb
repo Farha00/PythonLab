{
  "nbformat": 4,
  "nbformat_minor": 0,
  "metadata": {
    "colab": {
      "name": "Q1.ipynb",
      "provenance": [],
      "collapsed_sections": []
    },
    "kernelspec": {
      "name": "python3",
      "display_name": "Python 3"
    },
    "language_info": {
      "name": "python"
    }
  },
  "cells": [
    {
      "cell_type": "code",
      "execution_count": null,
      "metadata": {
        "colab": {
          "base_uri": "https://localhost:8080/"
        },
        "id": "MhfoTvpDGrK4",
        "outputId": "f7288e3e-b5c8-44ab-e03e-30481e6a512d",
        "collapsed": true
      },
      "outputs": [
        {
          "output_type": "stream",
          "name": "stdout",
          "text": [
            "Enter a 4-digit number = 1234\n",
            "Sum :  10\n",
            "Reverse :  4321\n",
            "-5\n"
          ]
        }
      ],
      "source": [
        "n=int(input('Enter a 4-digit number = '))\n",
        "dig1=n%10\n",
        "dig2=(n//10)%10\n",
        "dig3=(n//100)%10\n",
        "dig4=(n//1000)%10\n",
        "sum=dig1+dig2+dig3+dig4\n",
        "print('Sum : ',sum)\n",
        "print('Reverse : ',(dig1*1000)+(dig2*100)+(dig3*10)+dig4)\n",
        "print((dig4*dig2)-(dig3*dig1))"
      ]
    }
  ]
}