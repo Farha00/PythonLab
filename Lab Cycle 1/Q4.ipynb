{
  "nbformat": 4,
  "nbformat_minor": 0,
  "metadata": {
    "colab": {
      "name": "Q4.ipynb",
      "provenance": []
    },
    "kernelspec": {
      "name": "python3",
      "display_name": "Python 3"
    },
    "language_info": {
      "name": "python"
    }
  },
  "cells": [
    {
      "cell_type": "code",
      "source": [
        "def check_happy(n):\n",
        "  for i in range(0,101):\n",
        "    sum=0\n",
        "\n",
        "    while(n>0):\n",
        "      dig=n%10\n",
        "      n=n//10\n",
        "      sum=sum+dig**2\n",
        "    n=sum\n",
        "    if(sum==1):\n",
        "      return True\n",
        "  else:\n",
        "      return False\n",
        "\n",
        "n=int(input('Enter a number : '))\n",
        "if(check_happy(n)):\n",
        "  print('Happy')\n",
        "else:\n",
        "  print('Sad')\n",
        "\n",
        "l=int(input('Enter lower limit : '))\n",
        "u=int(input('Enter upper limit : '))\n",
        "def happy():\n",
        "  for i in range(l,u+1):\n",
        "     if check_happy(i):\n",
        "      print(i,end=' ')\n",
        "happy()\n",
        "\n",
        "N=int(input('\\nEnter the number of happy numbers required : '))\n",
        "\n",
        "def happy_list():\n",
        "  count=1\n",
        "  i=0\n",
        "  while(count<=N):\n",
        "    if check_happy(i):\n",
        "      print(i,end=' ')\n",
        "      count+=1\n",
        "    i+=1\n",
        "happy_list()\n"
      ],
      "metadata": {
        "colab": {
          "base_uri": "https://localhost:8080/"
        },
        "id": "HNGd6iM22V7k",
        "outputId": "0a1c312c-c86e-433b-a52e-1a32386dd5af",
        "collapsed": true
      },
      "execution_count": null,
      "outputs": [
        {
          "output_type": "stream",
          "name": "stdout",
          "text": [
            "Enter a number : 1\n",
            "Happy\n",
            "Enter lower limit : 1\n",
            "Enter upper limit : 20\n",
            "1 7 10 13 19 \n",
            "Enter the number of happy numbers required : 20\n",
            "1 7 10 13 19 23 28 31 32 44 49 68 70 79 82 86 91 94 97 100 "
          ]
        }
      ]
    }
  ]
}