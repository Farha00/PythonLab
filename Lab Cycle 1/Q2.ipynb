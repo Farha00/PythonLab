{
  "nbformat": 4,
  "nbformat_minor": 0,
  "metadata": {
    "colab": {
      "name": "Q2.ipynb",
      "provenance": []
    },
    "kernelspec": {
      "name": "python3",
      "display_name": "Python 3"
    },
    "language_info": {
      "name": "python"
    }
  },
  "cells": [
    {
      "cell_type": "code",
      "source": [
        "import math\n",
        "\n",
        "def read_sides():\n",
        "  a=int(input('Enter side 1 : '))\n",
        "  b=int(input('Enter side 2 : '))\n",
        "  c=int(input('Enter side 3 : '))\n",
        "  return(a,b,c)\n",
        "\n",
        "def get_area(a,b,c):\n",
        "  s=(a+b+c)/2\n",
        "  area=math.sqrt(s*(s-a)*(s-b)*(s-c))\n",
        "  return(area)\n",
        "\n",
        "print('Area of triangle 1 : ')\n",
        "a,b,c = read_sides()\n",
        "print(get_area(a,b,c))\n",
        "  \n",
        "print('Area of triangle 2 : ')\n",
        "x,y,z=read_sides()\n",
        "print(get_area(x,y,z))\n",
        "\n",
        "total=get_area(a,b,c)+get_area(x,y,z)\n",
        "print('Total Area : ',total)\n",
        "\n",
        "print('Contribution to area of triangle 1 : ',(get_area(a,b,c)/total)*100)\n",
        "print('Contribution of area of traingle 2 : ',(get_area(x,y,z)/total)*100)\n"
      ],
      "metadata": {
        "colab": {
          "base_uri": "https://localhost:8080/"
        },
        "id": "MAqRBfyoNR-2",
        "outputId": "def15b17-f954-459a-8c4c-75bd1a182843",
        "collapsed": true
      },
      "execution_count": null,
      "outputs": [
        {
          "output_type": "stream",
          "name": "stdout",
          "text": [
            "Area of triangle 1 : \n",
            "Enter side 1 : 3\n",
            "Enter side 2 : 4\n",
            "Enter side 3 : 5\n",
            "6.0\n",
            "Area of triangle 2 : \n",
            "Enter side 1 : 4\n",
            "Enter side 2 : 3\n",
            "Enter side 3 : 5\n",
            "6.0\n",
            "Total Area :  12.0\n",
            "Contribution to area of triangle 1 :  50.0\n",
            "Contribution of area of traingle 2 :  50.0\n"
          ]
        }
      ]
    }
  ]
}