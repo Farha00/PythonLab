{
  "nbformat": 4,
  "nbformat_minor": 0,
  "metadata": {
    "colab": {
      "name": "Q5.ipynb",
      "provenance": [],
      "collapsed_sections": []
    },
    "kernelspec": {
      "name": "python3",
      "display_name": "Python 3"
    },
    "language_info": {
      "name": "python"
    }
  },
  "cells": [
    {
      "cell_type": "code",
      "execution_count": null,
      "metadata": {
        "id": "EOkCGp4IlUa5"
      },
      "outputs": [],
      "source": [
        ""
      ]
    },
    {
      "cell_type": "code",
      "source": [
        "def sub_string(s):\n",
        "  l=len(s)\n",
        "  print('Possible substrings : ')\n",
        "  for i in range(0,l+1):\n",
        "    for j in range(i+1,l+1):\n",
        "      print(s[i:j])\n",
        "\n",
        "s=input('Enter the string :')\n",
        "sub_string(s)\n",
        "\n",
        "def length_k(s,k):\n",
        "  l=len(s)\n",
        "  for i in range(0,l+1):\n",
        "    for j in range(i+1,l+1):\n",
        "      if len(s[i:j])==k:\n",
        "        print(s[i:j])\n",
        "k=int(input('Enter length : '))\n",
        "length_k(s,k)\n",
        "\n",
        "def distinct(s,k):\n",
        "  l=len(s)\n",
        "  print('Distinct substring : ')\n",
        "  for i in range(0,l+1):\n",
        "    for j in range(i+1,l+1):\n",
        "      substring=s[i:j]\n",
        "      sett=set(substring)\n",
        "      if len(substring)==k:\n",
        "        if len(sett)==k:\n",
        "          print(substring)\n",
        "distinct(s,k)\n",
        "\n",
        "def palindrome():\n",
        "  slic=s[::-1]\n",
        "  if(slic==s):\n",
        "    print('Palindrome : ',slic)\n",
        "  else:\n",
        "    print('Not palindrome : ',slic)\n",
        "palindrome()"
      ],
      "metadata": {
        "colab": {
          "base_uri": "https://localhost:8080/"
        },
        "id": "btRRHyBAyLEB",
        "outputId": "af414136-db67-4b3f-f520-92f5d6d72569",
        "collapsed": true
      },
      "execution_count": null,
      "outputs": [
        {
          "output_type": "stream",
          "name": "stdout",
          "text": [
            "Enter the string :abcada\n",
            "Possible substrings : \n",
            "a\n",
            "ab\n",
            "abc\n",
            "abca\n",
            "abcad\n",
            "abcada\n",
            "b\n",
            "bc\n",
            "bca\n",
            "bcad\n",
            "bcada\n",
            "c\n",
            "ca\n",
            "cad\n",
            "cada\n",
            "a\n",
            "ad\n",
            "ada\n",
            "d\n",
            "da\n",
            "a\n",
            "Enter length : 3\n",
            "abc\n",
            "bca\n",
            "cad\n",
            "ada\n",
            "Distinct substring : \n",
            "abc\n",
            "bca\n",
            "cad\n",
            "Not palindrome :  adacba\n"
          ]
        }
      ]
    }
  ]
}