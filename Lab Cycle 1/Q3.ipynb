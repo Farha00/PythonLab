{
  "nbformat": 4,
  "nbformat_minor": 0,
  "metadata": {
    "colab": {
      "name": "Q3.ipynb",
      "provenance": []
    },
    "kernelspec": {
      "name": "python3",
      "display_name": "Python 3"
    },
    "language_info": {
      "name": "python"
    }
  },
  "cells": [
    {
      "cell_type": "code",
      "execution_count": null,
      "metadata": {
        "id": "-EYqf02oks63"
      },
      "outputs": [],
      "source": [
        ""
      ]
    },
    {
      "cell_type": "code",
      "source": [
        "name=input('Enter your name : ')\n",
        "code=int(input('Enter the code : '))\n",
        "BP=int(input('Enter your basic pay : '))\n",
        "\n",
        "if(BP<10000):\n",
        "  DA=(5/100)*BP\n",
        "  HRA=(2.5/100)*BP\n",
        "  MA=500\n",
        "  PT=20\n",
        "  PF=(8/100)*BP\n",
        "  IT=0\n",
        "elif(BP<30000):\n",
        "  DA=(7.5/100)*BP\n",
        "  HRA=(5/100)*BP\n",
        "  MA=2500\n",
        "  PT=60\n",
        "  PF=(8/100)*BP\n",
        "  IT=0\n",
        "elif(BP<50000):\n",
        "  DA=(11/100)*BP\n",
        "  HRA=(7.5/100)*BP\n",
        "  MA=5000\n",
        "  PT=60\n",
        "  PF=(11/100)*BP\n",
        "  IT=(11/100)*BP\n",
        "else:\n",
        "  DA=(25/100)*BP\n",
        "  HRA=(11/100)*BP\n",
        "  MA=7000\n",
        "  PT=80\n",
        "  PF=(12/100)*BP\n",
        "  IT=(20/100)*BP\n",
        "\n",
        "def gross_salary():\n",
        "  GS=BP+DA+HRA+MA\n",
        "  return(GS)\n",
        "\n",
        "def deduction_amount():\n",
        "  D=PT+PF+IT\n",
        "  return(D)\n",
        "\n",
        "def net_salary():\n",
        "  netsalary=(gross_salary()-deduction_amount())\n",
        "  return(netsalary)\n",
        "\n",
        "print('Payslip')\n",
        "print('Name : ',name)\n",
        "print('Code : ',code)\n",
        "print('Basic pay : ',BP)\n",
        "print('Gross salary : ',gross_salary())\n",
        "print('Deduction : ',deduction_amount())\n",
        "print('Net Salary : ',net_salary())"
      ],
      "metadata": {
        "colab": {
          "base_uri": "https://localhost:8080/"
        },
        "id": "3D6mxjdTaJQt",
        "outputId": "1a19ee7e-a6a0-45cb-98b9-0003eb02e0b6",
        "collapsed": true
      },
      "execution_count": null,
      "outputs": [
        {
          "output_type": "stream",
          "name": "stdout",
          "text": [
            "Enter your name : farha\n",
            "Enter the code : 12\n",
            "Enter your basic pay : 21000\n",
            "Payslip\n",
            "Name :  farha\n",
            "Code :  12\n",
            "Basic pay :  21000\n",
            "Gross salary :  26125.0\n",
            "Deduction :  1740.0\n",
            "Net Salary :  24385.0\n"
          ]
        }
      ]
    }
  ]
}