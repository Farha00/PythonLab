{
  "nbformat": 4,
  "nbformat_minor": 0,
  "metadata": {
    "colab": {
      "name": "PythonAssignment.ipynb",
      "provenance": [],
      "collapsed_sections": []
    },
    "kernelspec": {
      "name": "python3",
      "display_name": "Python 3"
    },
    "language_info": {
      "name": "python"
    }
  },
  "cells": [
    {
      "cell_type": "markdown",
      "source": [
        "1.Program to print average of three numnbers."
      ],
      "metadata": {
        "id": "fBbqZwyNYv7x"
      }
    },
    {
      "cell_type": "code",
      "source": [
        "a = int(input('Enter first number : '))\n",
        "b = int(input('Enter second number : '))\n",
        "c = int(input('Enter third number : '))\n",
        "average = ((a+b+c)/3)\n",
        "print('Average of three numbers = ',average)"
      ],
      "metadata": {
        "colab": {
          "base_uri": "https://localhost:8080/"
        },
        "id": "sAjZ44ilY8HJ",
        "outputId": "f3d7988e-e5e9-4e2e-ece4-5001af6c55c3"
      },
      "execution_count": null,
      "outputs": [
        {
          "output_type": "stream",
          "name": "stdout",
          "text": [
            "Enter first number : 2\n",
            "Enter second number : 2\n",
            "Enter third number : 2\n",
            "Average of three numbers =  2.0\n"
          ]
        }
      ]
    },
    {
      "cell_type": "markdown",
      "source": [
        "2.Program to print sum and average of three numbers."
      ],
      "metadata": {
        "id": "Oh3O1B5jaP-p"
      }
    },
    {
      "cell_type": "code",
      "source": [
        "a = int(input('Enter first number'))\n",
        "b = int(input('Enter second number'))\n",
        "c = int(input('Enter third number'))\n",
        "sum = a+b+c\n",
        "average = sum/3\n",
        "print('Sum of three numbers is : ',sum)\n",
        "print('Average of three numbers is : ',average)\n"
      ],
      "metadata": {
        "colab": {
          "base_uri": "https://localhost:8080/"
        },
        "id": "v0dxCAJAaeZS",
        "outputId": "bdbbd166-343b-416f-f9d5-27a3219736fe"
      },
      "execution_count": null,
      "outputs": [
        {
          "output_type": "stream",
          "name": "stdout",
          "text": [
            "Enter first number2\n",
            "Enter second number4\n",
            "Enter third number6\n",
            "Sum of three numbers is :  12\n",
            "Average of three numbers is :  4.0\n"
          ]
        }
      ]
    },
    {
      "cell_type": "markdown",
      "source": [
        "3.Program to print area and perimeter of a triangle."
      ],
      "metadata": {
        "id": "V7NqFOspbcrG"
      }
    },
    {
      "cell_type": "code",
      "source": [
        "a = float(input('Enter the length of first side'))\n",
        "b = float(input('Enter the length of second side'))\n",
        "c = float(input('Enter the length of third side'))\n",
        "perimeter = a+b+c\n",
        "s = (perimeter)/2\n",
        "area = math.sqrt((s*(s-a)*(s-b)*(s-c)))\n",
        "print('Perimeter of the triangle is : ',perimeter)\n",
        "print('Area of the triangle is : ',area)"
      ],
      "metadata": {
        "colab": {
          "base_uri": "https://localhost:8080/"
        },
        "id": "bFmjEr9Pblqt",
        "outputId": "959103b4-ee10-4c2c-d53f-844560f53e76"
      },
      "execution_count": null,
      "outputs": [
        {
          "output_type": "stream",
          "name": "stdout",
          "text": [
            "Enter the length of first side2\n",
            "Enter the length of second side2\n",
            "Enter the length of third side2\n",
            "Perimeter of the triangle is :  6.0\n",
            "Area of the triangle is :  1.7320508075688772\n"
          ]
        }
      ]
    },
    {
      "cell_type": "markdown",
      "source": [
        "4.Program to convert the time entered in seconds to hours,minutes and seconds."
      ],
      "metadata": {
        "id": "GnblGqG5suOP"
      }
    },
    {
      "cell_type": "code",
      "source": [
        "n = float(input('Enter the number of seconds : '))\n",
        "seconds = n\n",
        "minutes = seconds/60\n",
        "hours = minutes/60\n",
        "print('In hours : ',hours)\n",
        "print('In minutes : ',minutes)\n",
        "print('In seconds : ',seconds)"
      ],
      "metadata": {
        "colab": {
          "base_uri": "https://localhost:8080/"
        },
        "id": "sSOKEwxDtXzt",
        "outputId": "77513b8e-7f5a-4850-ac44-20c63bf5ca8a"
      },
      "execution_count": null,
      "outputs": [
        {
          "output_type": "stream",
          "name": "stdout",
          "text": [
            "Enter the number of seconds : 3600\n",
            "In hours :  1.0\n",
            "In minutes :  60.0\n",
            "In seconds :  3600.0\n"
          ]
        }
      ]
    },
    {
      "cell_type": "markdown",
      "source": [
        "5.Program to print area of a circle"
      ],
      "metadata": {
        "id": "Vp9mxzeNuY5X"
      }
    },
    {
      "cell_type": "code",
      "source": [
        "r = float(input('Enter the radius of the circle : '))\n",
        "area = math.pi*r*r\n",
        "print('Area of the circle is : ',area)"
      ],
      "metadata": {
        "colab": {
          "base_uri": "https://localhost:8080/"
        },
        "id": "EaTrAjyMulmI",
        "outputId": "c46fbb14-a9bc-462f-db16-80fb985e7f64"
      },
      "execution_count": null,
      "outputs": [
        {
          "output_type": "stream",
          "name": "stdout",
          "text": [
            "Enter the radius of the circle : 2\n",
            "Area of the circle is :  12.566370614359172\n"
          ]
        }
      ]
    },
    {
      "cell_type": "markdown",
      "source": [
        "6.Program to enter two unequal numbers and interchange them without using third variable."
      ],
      "metadata": {
        "id": "KPSa7qcJw1me"
      }
    },
    {
      "cell_type": "code",
      "source": [
        "a = int(input('Enter first number,a : '))\n",
        "b = int(input('Enter second number,b : '))\n",
        "a = a+b\n",
        "b = a-b\n",
        "a = a-b\n",
        "print('After swapping,a = ',a)\n",
        "print('After swapping,b = ',b)"
      ],
      "metadata": {
        "colab": {
          "base_uri": "https://localhost:8080/"
        },
        "id": "QLdc7-vDyNkI",
        "outputId": "ec99b243-e85e-44e4-c47a-ff58c2db8478"
      },
      "execution_count": null,
      "outputs": [
        {
          "output_type": "stream",
          "name": "stdout",
          "text": [
            "Enter first number,a : 12\n",
            "Enter second number,b : 24\n",
            "After swapping,a =  24\n",
            "After swapping,b =  12\n"
          ]
        }
      ]
    },
    {
      "cell_type": "markdown",
      "source": [
        "7.Program to enter the number of days and display into years,months and days."
      ],
      "metadata": {
        "id": "TR9AC5F1zb11"
      }
    },
    {
      "cell_type": "code",
      "source": [
        "n = int(input('Enter the number of days : '))\n",
        "days = n\n",
        "months = n/30.417\n",
        "years = n/365\n",
        "print('In days : ',days)\n",
        "print('In months : ',months)\n",
        "print('In years : ',years)"
      ],
      "metadata": {
        "colab": {
          "base_uri": "https://localhost:8080/"
        },
        "id": "FKVvS6gnzzlu",
        "outputId": "c66da535-96ff-45df-b015-b949282ffa36"
      },
      "execution_count": null,
      "outputs": [
        {
          "output_type": "stream",
          "name": "stdout",
          "text": [
            "Enter the number of days : 365\n",
            "In days :  365\n",
            "In months :  11.999868494591839\n",
            "In years :  1.0\n"
          ]
        }
      ]
    },
    {
      "cell_type": "markdown",
      "source": [
        "8.Program to display the sum,difference,product.quotient and remainder."
      ],
      "metadata": {
        "id": "STux9uSQ0wVt"
      }
    },
    {
      "cell_type": "code",
      "source": [
        "a = int(input('Enter first number,a : '))\n",
        "b = int(input('Enter second number,b : '))\n",
        "sum = a+b\n",
        "difference = a-b\n",
        "product = a*b\n",
        "quotient = a/b\n",
        "remainder = a%b\n",
        "print(\"Sum = \",sum)\n",
        "print(\"Difference = \",difference)\n",
        "print(\"Product = \",product)\n",
        "print(\"Remainder = \",remainder)"
      ],
      "metadata": {
        "colab": {
          "base_uri": "https://localhost:8080/"
        },
        "id": "ubrpyVgk1DZY",
        "outputId": "7344ee09-3714-4f83-d5a1-3c93e80d9bb6"
      },
      "execution_count": null,
      "outputs": [
        {
          "output_type": "stream",
          "name": "stdout",
          "text": [
            "Enter first number,a : 5\n",
            "Enter second number,b : 2\n",
            "Sum =  7\n",
            "Difference =  3\n",
            "Product =  10\n",
            "Remainder =  1\n"
          ]
        }
      ]
    }
  ]
}